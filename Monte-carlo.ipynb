{
 "cells": [
  {
   "cell_type": "code",
   "execution_count": 86,
   "metadata": {},
   "outputs": [
    {
     "name": "stdout",
     "output_type": "stream",
     "text": [
      "Resultado 0.8818\n"
     ]
    }
   ],
   "source": [
    "#Monte Carlo\n",
    "from random import random\n",
    "import math\n",
    "\n",
    "def integral():\n",
    "    suma=0\n",
    "    n=0\n",
    "    x=0\n",
    "    y=0\n",
    "    while (n<1000000):\n",
    "        x=2*random()\n",
    "        y=2*math.exp(-x*x)\n",
    "        suma+=y\n",
    "        n+=1\n",
    "    print(\"Resultado\",round(suma/n,4))  \n",
    "integral()\n",
    "        \n",
    "    \n",
    "    "
   ]
  },
  {
   "cell_type": "code",
   "execution_count": null,
   "metadata": {
    "collapsed": true
   },
   "outputs": [],
   "source": []
  }
 ],
 "metadata": {
  "kernelspec": {
   "display_name": "Python 3",
   "language": "python",
   "name": "python3"
  },
  "language_info": {
   "codemirror_mode": {
    "name": "ipython",
    "version": 3
   },
   "file_extension": ".py",
   "mimetype": "text/x-python",
   "name": "python",
   "nbconvert_exporter": "python",
   "pygments_lexer": "ipython3",
   "version": "3.6.3"
  }
 },
 "nbformat": 4,
 "nbformat_minor": 2
}
